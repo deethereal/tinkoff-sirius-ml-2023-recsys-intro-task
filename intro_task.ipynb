{
 "cells": [
  {
   "cell_type": "markdown",
   "id": "28890e74-01a4-4079-8950-7a4bf96907ab",
   "metadata": {},
   "source": [
    "# Recommender Systems"
   ]
  },
  {
   "cell_type": "markdown",
   "id": "2a8ebbf9",
   "metadata": {},
   "source": [
    "# Библиотеки"
   ]
  },
  {
   "cell_type": "code",
   "execution_count": 2,
   "id": "87020f5c",
   "metadata": {},
   "outputs": [],
   "source": [
    "from abc import ABC, abstractmethod\n",
    "from typing import Dict, List\n",
    "\n",
    "import matplotlib.pyplot as plt\n",
    "import numpy as np\n",
    "import pandas as pd\n",
    "from implicit.als import AlternatingLeastSquares\n",
    "from scipy.sparse import csr_matrix\n",
    "from sklearn.preprocessing import LabelEncoder\n",
    "from tqdm.auto import tqdm\n"
   ]
  },
  {
   "cell_type": "markdown",
   "id": "ac5ea33e",
   "metadata": {},
   "source": [
    "# Данные"
   ]
  },
  {
   "cell_type": "markdown",
   "id": "c457efa5",
   "metadata": {},
   "source": [
    "В качестве данных будем использовать датасет от MTS.AI: [kion-data](https://arxiv.org/pdf/2209.00325.pdf).  \n",
    "Это информация о просмотрах пользователей различных фильмов и сериалов с названиями, описаниями и прочими фичами. \n",
    "**Обратите внимание, что вы можете парсить интернет, для получения дополнительных фичей!**   \n",
    "Мы заранее поделили выборки на тренировочную и тестовую части, поэтому **просим** вас придерживаться следующих правил: с тренировочными данными разрешается делать **всё что угодно**, тестовую же часть **запрещается изменять**!  \n",
    "\n",
    "Датасет представляет из себя 4 файла: тренировочную часть (`train_data.csv`), тестовую часть(`test_data.csv`), описание пользователей(`users.csv`) и описание айтемов(`items_.csv`). "
   ]
  },
  {
   "cell_type": "code",
   "execution_count": 3,
   "id": "4fe28e8d",
   "metadata": {},
   "outputs": [],
   "source": [
    "data_folder = \"kion_data/\"\n",
    "\n",
    "users_df = pd.read_csv(data_folder + \"users.csv\")\n",
    "items_df = pd.read_csv(data_folder + \"items.csv\")\n",
    "train_part = pd.read_csv(data_folder + \"train_data.csv\", parse_dates=[\"last_watch_dt\"])\n",
    "test_part = pd.read_csv(data_folder + \"test_data.csv\")\n",
    "test_part = test_part.groupby(\"user_id\").agg({\"ground_truth\": list}).reset_index()\n"
   ]
  },
  {
   "cell_type": "markdown",
   "id": "4181deb6",
   "metadata": {},
   "source": [
    "# Пользователи"
   ]
  },
  {
   "cell_type": "code",
   "execution_count": 4,
   "id": "5ac529e0",
   "metadata": {},
   "outputs": [
    {
     "data": {
      "text/html": [
       "<div>\n",
       "<style scoped>\n",
       "    .dataframe tbody tr th:only-of-type {\n",
       "        vertical-align: middle;\n",
       "    }\n",
       "\n",
       "    .dataframe tbody tr th {\n",
       "        vertical-align: top;\n",
       "    }\n",
       "\n",
       "    .dataframe thead th {\n",
       "        text-align: right;\n",
       "    }\n",
       "</style>\n",
       "<table border=\"1\" class=\"dataframe\">\n",
       "  <thead>\n",
       "    <tr style=\"text-align: right;\">\n",
       "      <th></th>\n",
       "      <th>user_id</th>\n",
       "      <th>age</th>\n",
       "      <th>income</th>\n",
       "      <th>sex</th>\n",
       "      <th>kids_flg</th>\n",
       "    </tr>\n",
       "  </thead>\n",
       "  <tbody>\n",
       "    <tr>\n",
       "      <th>0</th>\n",
       "      <td>973171</td>\n",
       "      <td>age_25_34</td>\n",
       "      <td>income_60_90</td>\n",
       "      <td>М</td>\n",
       "      <td>1</td>\n",
       "    </tr>\n",
       "    <tr>\n",
       "      <th>1</th>\n",
       "      <td>962099</td>\n",
       "      <td>age_18_24</td>\n",
       "      <td>income_20_40</td>\n",
       "      <td>М</td>\n",
       "      <td>0</td>\n",
       "    </tr>\n",
       "    <tr>\n",
       "      <th>2</th>\n",
       "      <td>721985</td>\n",
       "      <td>age_45_54</td>\n",
       "      <td>income_20_40</td>\n",
       "      <td>Ж</td>\n",
       "      <td>0</td>\n",
       "    </tr>\n",
       "    <tr>\n",
       "      <th>3</th>\n",
       "      <td>704055</td>\n",
       "      <td>age_35_44</td>\n",
       "      <td>income_60_90</td>\n",
       "      <td>Ж</td>\n",
       "      <td>0</td>\n",
       "    </tr>\n",
       "    <tr>\n",
       "      <th>4</th>\n",
       "      <td>846063</td>\n",
       "      <td>age_35_44</td>\n",
       "      <td>income_40_60</td>\n",
       "      <td>Ж</td>\n",
       "      <td>1</td>\n",
       "    </tr>\n",
       "  </tbody>\n",
       "</table>\n",
       "</div>"
      ],
      "text/plain": [
       "   user_id        age        income sex  kids_flg\n",
       "0   973171  age_25_34  income_60_90   М         1\n",
       "1   962099  age_18_24  income_20_40   М         0\n",
       "2   721985  age_45_54  income_20_40   Ж         0\n",
       "3   704055  age_35_44  income_60_90   Ж         0\n",
       "4   846063  age_35_44  income_40_60   Ж         1"
      ]
     },
     "execution_count": 4,
     "metadata": {},
     "output_type": "execute_result"
    }
   ],
   "source": [
    "users_df.head()"
   ]
  },
  {
   "cell_type": "markdown",
   "id": "8b1d94a2",
   "metadata": {},
   "source": [
    "## Какие есть признаки?\n",
    "\n",
    "1. `user_id` – индентификатор пользователя, уникален для каждого\n",
    "2. `age` – категориальный признак, показывающий возрастную группу пользователя\n",
    "3. `income` – категориальный признак, показывающий зарплатную группу пользователя\n",
    "4. `sex` – пол пользователя\n",
    "5. `kids_flg` – наличие детей у пользователя\n"
   ]
  },
  {
   "cell_type": "markdown",
   "id": "5958decd",
   "metadata": {},
   "source": [
    "# Айтемы"
   ]
  },
  {
   "cell_type": "code",
   "execution_count": 5,
   "id": "ab072a65",
   "metadata": {},
   "outputs": [
    {
     "data": {
      "text/html": [
       "<div>\n",
       "<style scoped>\n",
       "    .dataframe tbody tr th:only-of-type {\n",
       "        vertical-align: middle;\n",
       "    }\n",
       "\n",
       "    .dataframe tbody tr th {\n",
       "        vertical-align: top;\n",
       "    }\n",
       "\n",
       "    .dataframe thead th {\n",
       "        text-align: right;\n",
       "    }\n",
       "</style>\n",
       "<table border=\"1\" class=\"dataframe\">\n",
       "  <thead>\n",
       "    <tr style=\"text-align: right;\">\n",
       "      <th></th>\n",
       "      <th>item_id</th>\n",
       "      <th>content_type</th>\n",
       "      <th>title</th>\n",
       "      <th>title_orig</th>\n",
       "      <th>release_year</th>\n",
       "      <th>genres</th>\n",
       "      <th>countries</th>\n",
       "      <th>for_kids</th>\n",
       "      <th>age_rating</th>\n",
       "      <th>studios</th>\n",
       "      <th>directors</th>\n",
       "      <th>actors</th>\n",
       "      <th>description</th>\n",
       "      <th>keywords</th>\n",
       "    </tr>\n",
       "  </thead>\n",
       "  <tbody>\n",
       "    <tr>\n",
       "      <th>0</th>\n",
       "      <td>10711</td>\n",
       "      <td>film</td>\n",
       "      <td>Поговори с ней</td>\n",
       "      <td>Hable con ella</td>\n",
       "      <td>2002.0</td>\n",
       "      <td>драмы, зарубежные, детективы, мелодрамы</td>\n",
       "      <td>Испания</td>\n",
       "      <td>NaN</td>\n",
       "      <td>16.0</td>\n",
       "      <td>NaN</td>\n",
       "      <td>Педро Альмодовар</td>\n",
       "      <td>Адольфо Фернандес, Ана Фернандес, Дарио Гранди...</td>\n",
       "      <td>Мелодрама легендарного Педро Альмодовара «Пого...</td>\n",
       "      <td>Поговори, ней, 2002, Испания, друзья, любовь, ...</td>\n",
       "    </tr>\n",
       "    <tr>\n",
       "      <th>1</th>\n",
       "      <td>2508</td>\n",
       "      <td>film</td>\n",
       "      <td>Голые перцы</td>\n",
       "      <td>Search Party</td>\n",
       "      <td>2014.0</td>\n",
       "      <td>зарубежные, приключения, комедии</td>\n",
       "      <td>США</td>\n",
       "      <td>NaN</td>\n",
       "      <td>16.0</td>\n",
       "      <td>NaN</td>\n",
       "      <td>Скот Армстронг</td>\n",
       "      <td>Адам Палли, Брайан Хаски, Дж.Б. Смув, Джейсон ...</td>\n",
       "      <td>Уморительная современная комедия на популярную...</td>\n",
       "      <td>Голые, перцы, 2014, США, друзья, свадьбы, прео...</td>\n",
       "    </tr>\n",
       "  </tbody>\n",
       "</table>\n",
       "</div>"
      ],
      "text/plain": [
       "   item_id content_type           title      title_orig  release_year  \\\n",
       "0    10711         film  Поговори с ней  Hable con ella        2002.0   \n",
       "1     2508         film     Голые перцы    Search Party        2014.0   \n",
       "\n",
       "                                    genres countries  for_kids  age_rating  \\\n",
       "0  драмы, зарубежные, детективы, мелодрамы   Испания       NaN        16.0   \n",
       "1         зарубежные, приключения, комедии       США       NaN        16.0   \n",
       "\n",
       "  studios         directors  \\\n",
       "0     NaN  Педро Альмодовар   \n",
       "1     NaN    Скот Армстронг   \n",
       "\n",
       "                                              actors  \\\n",
       "0  Адольфо Фернандес, Ана Фернандес, Дарио Гранди...   \n",
       "1  Адам Палли, Брайан Хаски, Дж.Б. Смув, Джейсон ...   \n",
       "\n",
       "                                         description  \\\n",
       "0  Мелодрама легендарного Педро Альмодовара «Пого...   \n",
       "1  Уморительная современная комедия на популярную...   \n",
       "\n",
       "                                            keywords  \n",
       "0  Поговори, ней, 2002, Испания, друзья, любовь, ...  \n",
       "1  Голые, перцы, 2014, США, друзья, свадьбы, прео...  "
      ]
     },
     "execution_count": 5,
     "metadata": {},
     "output_type": "execute_result"
    }
   ],
   "source": [
    "items_df.head(2)"
   ]
  },
  {
   "cell_type": "markdown",
   "id": "bd6ec505",
   "metadata": {},
   "source": [
    "## Какие есть признаки?\n",
    "\n",
    "1. `item_id` – индентификатор айтема, уникален для каждого\n",
    "2. `content_type` – категориальный признак, тип айтема (фильм, сериал и т.д.)\n",
    "3. `title` – Название на русском языке\n",
    "4. `title_orig` – Название на языке оригинала\n",
    "5. `release_year` – год выхода \n",
    "6. `genres` – список жанров (представлен строкой)\n",
    "7. `countries` – страна издания\n",
    "8. `for_kids` – предназначен для детей\n",
    "9. `age_rating` – возрастной рейтинг картины\n",
    "10. `studios` – студия, выпустившая картину\n",
    "11. `directors` – режиссер(ы)\n",
    "12. `actors` – актёры\n",
    "13. `description` – описание (на русском)\n",
    "14. `keywords` – ключевые слова, описывающие картину\n"
   ]
  },
  {
   "cell_type": "markdown",
   "id": "1f847f22",
   "metadata": {},
   "source": [
    "# Просмотры пользователей"
   ]
  },
  {
   "cell_type": "markdown",
   "id": "4e7bcab4",
   "metadata": {},
   "source": [
    "### Тренировачные данные"
   ]
  },
  {
   "cell_type": "code",
   "execution_count": 6,
   "id": "550ab814",
   "metadata": {},
   "outputs": [
    {
     "name": "stdout",
     "output_type": "stream",
     "text": [
      "Число тренировачных интеракций: 1,224,560\n"
     ]
    },
    {
     "data": {
      "text/html": [
       "<div>\n",
       "<style scoped>\n",
       "    .dataframe tbody tr th:only-of-type {\n",
       "        vertical-align: middle;\n",
       "    }\n",
       "\n",
       "    .dataframe tbody tr th {\n",
       "        vertical-align: top;\n",
       "    }\n",
       "\n",
       "    .dataframe thead th {\n",
       "        text-align: right;\n",
       "    }\n",
       "</style>\n",
       "<table border=\"1\" class=\"dataframe\">\n",
       "  <thead>\n",
       "    <tr style=\"text-align: right;\">\n",
       "      <th></th>\n",
       "      <th>user_id</th>\n",
       "      <th>item_id</th>\n",
       "      <th>last_watch_dt</th>\n",
       "      <th>total_dur</th>\n",
       "      <th>watched_pct</th>\n",
       "    </tr>\n",
       "  </thead>\n",
       "  <tbody>\n",
       "    <tr>\n",
       "      <th>0</th>\n",
       "      <td>176549</td>\n",
       "      <td>9506</td>\n",
       "      <td>2021-05-11</td>\n",
       "      <td>4250.0</td>\n",
       "      <td>72.0</td>\n",
       "    </tr>\n",
       "    <tr>\n",
       "      <th>1</th>\n",
       "      <td>699317</td>\n",
       "      <td>1659</td>\n",
       "      <td>2021-05-29</td>\n",
       "      <td>8317.0</td>\n",
       "      <td>100.0</td>\n",
       "    </tr>\n",
       "    <tr>\n",
       "      <th>2</th>\n",
       "      <td>656683</td>\n",
       "      <td>7107</td>\n",
       "      <td>2021-05-09</td>\n",
       "      <td>10.0</td>\n",
       "      <td>0.0</td>\n",
       "    </tr>\n",
       "    <tr>\n",
       "      <th>3</th>\n",
       "      <td>864613</td>\n",
       "      <td>7638</td>\n",
       "      <td>2021-07-05</td>\n",
       "      <td>14483.0</td>\n",
       "      <td>100.0</td>\n",
       "    </tr>\n",
       "    <tr>\n",
       "      <th>4</th>\n",
       "      <td>964868</td>\n",
       "      <td>9506</td>\n",
       "      <td>2021-04-30</td>\n",
       "      <td>6725.0</td>\n",
       "      <td>100.0</td>\n",
       "    </tr>\n",
       "  </tbody>\n",
       "</table>\n",
       "</div>"
      ],
      "text/plain": [
       "   user_id  item_id last_watch_dt  total_dur  watched_pct\n",
       "0   176549     9506    2021-05-11     4250.0         72.0\n",
       "1   699317     1659    2021-05-29     8317.0        100.0\n",
       "2   656683     7107    2021-05-09       10.0          0.0\n",
       "3   864613     7638    2021-07-05    14483.0        100.0\n",
       "4   964868     9506    2021-04-30     6725.0        100.0"
      ]
     },
     "execution_count": 6,
     "metadata": {},
     "output_type": "execute_result"
    }
   ],
   "source": [
    "print(f\"Число тренировачных интеракций: {len(train_part):,}\")\n",
    "train_part.head()"
   ]
  },
  {
   "cell_type": "markdown",
   "id": "468be7b9",
   "metadata": {},
   "source": [
    "### Тестовые данные"
   ]
  },
  {
   "cell_type": "code",
   "execution_count": 7,
   "id": "f8d7e2e4",
   "metadata": {},
   "outputs": [
    {
     "name": "stdout",
     "output_type": "stream",
     "text": [
      "Число тестовых пользователей: 18,693\n"
     ]
    },
    {
     "data": {
      "text/html": [
       "<div>\n",
       "<style scoped>\n",
       "    .dataframe tbody tr th:only-of-type {\n",
       "        vertical-align: middle;\n",
       "    }\n",
       "\n",
       "    .dataframe tbody tr th {\n",
       "        vertical-align: top;\n",
       "    }\n",
       "\n",
       "    .dataframe thead th {\n",
       "        text-align: right;\n",
       "    }\n",
       "</style>\n",
       "<table border=\"1\" class=\"dataframe\">\n",
       "  <thead>\n",
       "    <tr style=\"text-align: right;\">\n",
       "      <th></th>\n",
       "      <th>user_id</th>\n",
       "      <th>ground_truth</th>\n",
       "    </tr>\n",
       "  </thead>\n",
       "  <tbody>\n",
       "    <tr>\n",
       "      <th>0</th>\n",
       "      <td>30</td>\n",
       "      <td>[8584, 3031, 15363]</td>\n",
       "    </tr>\n",
       "    <tr>\n",
       "      <th>1</th>\n",
       "      <td>144</td>\n",
       "      <td>[3800, 11987, 10942]</td>\n",
       "    </tr>\n",
       "    <tr>\n",
       "      <th>2</th>\n",
       "      <td>241</td>\n",
       "      <td>[14841, 6162, 5808, 15266]</td>\n",
       "    </tr>\n",
       "    <tr>\n",
       "      <th>3</th>\n",
       "      <td>259</td>\n",
       "      <td>[16509, 10509, 4491, 5434, 4471, 10772, 817]</td>\n",
       "    </tr>\n",
       "    <tr>\n",
       "      <th>4</th>\n",
       "      <td>475</td>\n",
       "      <td>[6214, 3734, 6686]</td>\n",
       "    </tr>\n",
       "  </tbody>\n",
       "</table>\n",
       "</div>"
      ],
      "text/plain": [
       "   user_id                                  ground_truth\n",
       "0       30                           [8584, 3031, 15363]\n",
       "1      144                          [3800, 11987, 10942]\n",
       "2      241                    [14841, 6162, 5808, 15266]\n",
       "3      259  [16509, 10509, 4491, 5434, 4471, 10772, 817]\n",
       "4      475                            [6214, 3734, 6686]"
      ]
     },
     "execution_count": 7,
     "metadata": {},
     "output_type": "execute_result"
    }
   ],
   "source": [
    "print(f\"Число тестовых пользователей: {len(test_part):,}\")\n",
    "test_part.head()"
   ]
  },
  {
   "cell_type": "markdown",
   "id": "c1cbbff2",
   "metadata": {},
   "source": [
    "### Обратите внимание, что формат данных тестовой и тренировочной частей отличается. \n",
    "#### Это сделано для того, чтобы вы могли использовать дополнительную информацию в своих моделях, например такую как время просмотра (`total_dur`), процент просмотра(`watched_pct`), а так же дату последнего просмотра (`last_watch_dt`)\n",
    "#### При этом на тренировачных данных такой информации нет, так как мы не можем смотреть в будущее.     \n",
    "\n",
    "#### Тестовые данные также приведены в удобный для подсчета метрик вид."
   ]
  },
  {
   "cell_type": "markdown",
   "id": "116dca2a",
   "metadata": {},
   "source": [
    "# Метрики"
   ]
  },
  {
   "cell_type": "markdown",
   "id": "f6b8e6a6",
   "metadata": {},
   "source": [
    "#### Кратко расскажем про метрики, которые мы будем использовать для измерения качества наших моделей.  \n",
    "\n",
    "Всего мы будем смотреть на две метрики: **ndcg** и **recall**.  \n",
    "Все метрики измеряются до какой-то позиции, у нас это будет **10**. То есть мы отдаем 10 самых подходящих пользователю айтемов по мнению модели и говорим, что это и есть наши рекомендации, качество которых мы хотим оценить.  \n",
    "\n",
    "**ndcg** показывает, как модель справляется с задачей ранжирования, то есть ставит просмотренные айтемы выше непросмотренных\n",
    "**recall** показывает, как много релевантных айтемов модель выдаёт в топе (смысл как в задаче классификации)\n",
    "\n",
    "*Для обоих метрик лучше та, которая как можно ближе к **1.0***\n",
    "\n",
    "Не бойтесь, если вам сейчас что-то непонятно, подробнее про метрики мы расскажем на смене или можете почитать в интернете:)\n",
    "\n",
    "#### Ниже представлен код реализации, пожалуйста, не меняйте его!"
   ]
  },
  {
   "cell_type": "code",
   "execution_count": 8,
   "id": "862f37fa",
   "metadata": {},
   "outputs": [],
   "source": [
    "# ACHTUNG! DO NOT TOUCH \n",
    "\n",
    "def ndcg_metric(gt_items: np.ndarray, predicted: np.ndarray) -> float:\n",
    "    at = len(predicted)\n",
    "    relevance = np.array([1 if x in predicted else 0 for x in gt_items])\n",
    "    # DCG uses the relevance of the recommended items\n",
    "    rank_dcg = dcg(relevance)\n",
    "    if rank_dcg == 0.0:\n",
    "        return 0.0\n",
    "\n",
    "    # IDCG has all relevances to 1 (or the values provided), up to the number of items in the test set that can fit in the list length\n",
    "    ideal_dcg = dcg(np.sort(relevance)[::-1][:at])\n",
    "\n",
    "    if ideal_dcg == 0.0:\n",
    "        return 0.0\n",
    "\n",
    "    ndcg_ = rank_dcg / ideal_dcg\n",
    "\n",
    "    return ndcg_\n",
    "\n",
    "\n",
    "def dcg(scores: np.ndarray) -> float:\n",
    "    return np.sum(\n",
    "        np.divide(np.power(2, scores) - 1, np.log2(np.arange(scores.shape[0], dtype=np.float64) + 2)), dtype=np.float64\n",
    "    )\n",
    "\n",
    "\n",
    "def recall_metric(gt_items: np.ndarray, predicted: np.ndarray) -> float:\n",
    "    n_gt = len(gt_items)\n",
    "    intersection = len(set(gt_items).intersection(set(predicted)))\n",
    "    return intersection / n_gt\n",
    "\n",
    "\n",
    "def evaluate_recommender(df: pd.DataFrame, model_preds_col: str, gt_col: str = \"ground_truth\") -> Dict[str, float]:\n",
    "    metric_values = []\n",
    "\n",
    "    for _, row in df.iterrows():\n",
    "        metric_values.append(\n",
    "            (ndcg_metric(row[gt_col], row[model_preds_col]), recall_metric(row[gt_col], row[model_preds_col]))\n",
    "        )\n",
    "\n",
    "    return {\"ndcg\": np.mean([x[0] for x in metric_values]), \"recall\": np.mean([x[1] for x in metric_values])}"
   ]
  },
  {
   "cell_type": "markdown",
   "id": "f3a653e1",
   "metadata": {},
   "source": [
    "#### Класс, от которого стоит наследовать все ваши модели, чтобы эксперименты было проще проводить"
   ]
  },
  {
   "cell_type": "code",
   "execution_count": 9,
   "id": "50d66b8e-3ae7-4080-bfd7-a6bfbc4919fd",
   "metadata": {},
   "outputs": [],
   "source": [
    "class BaseRecommender(ABC):\n",
    "    def __init__(self):\n",
    "        self.trained = False\n",
    "\n",
    "    @abstractmethod\n",
    "    def fit(self, df: pd.DataFrame) -> None:\n",
    "        # реализация может быть любой, никаких ограничений\n",
    "\n",
    "        # не забудьте про\n",
    "        self.trained = True\n",
    "\n",
    "    @abstractmethod\n",
    "    def predict(self, df: pd.DataFrame, topn: int = 10) -> List[np.ndarray]:\n",
    "        # реализация может быть любой, НО\n",
    "        # должен возвращать список массивов из item_id, которые есть в `item_df`, чтобы корректно работал подсчет метрик\n",
    "        pass"
   ]
  },
  {
   "cell_type": "markdown",
   "id": "a85cdf6a",
   "metadata": {},
   "source": [
    "### Перейдем к моделям, начнем с супер простого подхода – давайте всем рекомендовать топ популярных (по числу просмотров) айтемов"
   ]
  },
  {
   "cell_type": "markdown",
   "id": "b9980118",
   "metadata": {},
   "source": [
    "# Baseline #1 – Топ Популярных"
   ]
  },
  {
   "cell_type": "code",
   "execution_count": 10,
   "id": "b3345e4e",
   "metadata": {},
   "outputs": [
    {
     "data": {
      "text/html": [
       "<div>\n",
       "<style scoped>\n",
       "    .dataframe tbody tr th:only-of-type {\n",
       "        vertical-align: middle;\n",
       "    }\n",
       "\n",
       "    .dataframe tbody tr th {\n",
       "        vertical-align: top;\n",
       "    }\n",
       "\n",
       "    .dataframe thead th {\n",
       "        text-align: right;\n",
       "    }\n",
       "</style>\n",
       "<table border=\"1\" class=\"dataframe\">\n",
       "  <thead>\n",
       "    <tr style=\"text-align: right;\">\n",
       "      <th></th>\n",
       "      <th>user_id</th>\n",
       "      <th>ground_truth</th>\n",
       "      <th>toppopular_recs</th>\n",
       "    </tr>\n",
       "  </thead>\n",
       "  <tbody>\n",
       "    <tr>\n",
       "      <th>0</th>\n",
       "      <td>30</td>\n",
       "      <td>[8584, 3031, 15363]</td>\n",
       "      <td>[10440, 15297, 13865, 9728, 4151, 2657, 3734, ...</td>\n",
       "    </tr>\n",
       "    <tr>\n",
       "      <th>1</th>\n",
       "      <td>144</td>\n",
       "      <td>[3800, 11987, 10942]</td>\n",
       "      <td>[10440, 15297, 13865, 9728, 4151, 2657, 3734, ...</td>\n",
       "    </tr>\n",
       "    <tr>\n",
       "      <th>2</th>\n",
       "      <td>241</td>\n",
       "      <td>[14841, 6162, 5808, 15266]</td>\n",
       "      <td>[10440, 15297, 13865, 9728, 4151, 2657, 3734, ...</td>\n",
       "    </tr>\n",
       "    <tr>\n",
       "      <th>3</th>\n",
       "      <td>259</td>\n",
       "      <td>[16509, 10509, 4491, 5434, 4471, 10772, 817]</td>\n",
       "      <td>[10440, 15297, 13865, 9728, 4151, 2657, 3734, ...</td>\n",
       "    </tr>\n",
       "    <tr>\n",
       "      <th>4</th>\n",
       "      <td>475</td>\n",
       "      <td>[6214, 3734, 6686]</td>\n",
       "      <td>[10440, 15297, 13865, 9728, 4151, 2657, 3734, ...</td>\n",
       "    </tr>\n",
       "  </tbody>\n",
       "</table>\n",
       "</div>"
      ],
      "text/plain": [
       "   user_id                                  ground_truth  \\\n",
       "0       30                           [8584, 3031, 15363]   \n",
       "1      144                          [3800, 11987, 10942]   \n",
       "2      241                    [14841, 6162, 5808, 15266]   \n",
       "3      259  [16509, 10509, 4491, 5434, 4471, 10772, 817]   \n",
       "4      475                            [6214, 3734, 6686]   \n",
       "\n",
       "                                     toppopular_recs  \n",
       "0  [10440, 15297, 13865, 9728, 4151, 2657, 3734, ...  \n",
       "1  [10440, 15297, 13865, 9728, 4151, 2657, 3734, ...  \n",
       "2  [10440, 15297, 13865, 9728, 4151, 2657, 3734, ...  \n",
       "3  [10440, 15297, 13865, 9728, 4151, 2657, 3734, ...  \n",
       "4  [10440, 15297, 13865, 9728, 4151, 2657, 3734, ...  "
      ]
     },
     "execution_count": 10,
     "metadata": {},
     "output_type": "execute_result"
    }
   ],
   "source": [
    "class TopPopular(BaseRecommender):\n",
    "    def __init__(self):\n",
    "        super().__init__()\n",
    "\n",
    "    def fit(self, df: pd.DataFrame, item_id_col: str = \"item_id\") -> None:\n",
    "        # считаем популярность айтемов\n",
    "        self.recommendations = df[item_id_col].value_counts().index.values\n",
    "        self.trained = True\n",
    "\n",
    "    def predict(self, df: pd.DataFrame, topn: int = 10) -> np.ndarray:\n",
    "        assert self.trained\n",
    "        # возвращаем для всех одно и то же\n",
    "        return [self.recommendations[:topn]] * len(df)\n",
    "\n",
    "\n",
    "toppop = TopPopular()\n",
    "toppop.fit(train_part)\n",
    "test_part[\"toppopular_recs\"] = toppop.predict(test_part)\n",
    "test_part.head()"
   ]
  },
  {
   "cell_type": "markdown",
   "id": "cf0dda28",
   "metadata": {},
   "source": [
    "##### Посмотрим на метрики, для этого передаем тестовый датафрейм и колонку с предсказаниями, в нашем случае это `toppopular_recs`  "
   ]
  },
  {
   "cell_type": "code",
   "execution_count": 11,
   "id": "8fe15d27",
   "metadata": {},
   "outputs": [
    {
     "data": {
      "text/plain": [
       "{'ndcg': 0.17037237918248196, 'recall': 0.0763696799665908}"
      ]
     },
     "execution_count": 11,
     "metadata": {},
     "output_type": "execute_result"
    }
   ],
   "source": [
    "evaluate_recommender(df=test_part, model_preds_col=\"toppopular_recs\")\n"
   ]
  },
  {
   "cell_type": "markdown",
   "id": "16812cd3",
   "metadata": {},
   "source": [
    "#### Не пугайтесь таких маленьких значений, в RecSys задачах часто очень тяжело подстроиться под данные, поэтому абсолютные значения невелики. Чтобы по-настоящему оценить качество вашей модели, нужно сранвить ее с каким-то простым решением, которое можно считать отправной точкой. Наш бейзлайн с популярными фильмами как раз подходит!"
   ]
  },
  {
   "cell_type": "markdown",
   "id": "5e86cf0f",
   "metadata": {},
   "source": [
    "### Теперь возьмем подход посложнее, уже математически подкованный\n",
    "Мы можем представить просмотры пользователей, как матрицу, где по столбцам будут отложены айтемы, а по строкам – пользователи. В `[i,j]` ячейке будет стоять 1, если пользователь смотрел фильм/сериал и 0, если нет.  \n",
    "Тогда нашей задачей будет разложить исходную матрицу на две: матрицу пользователей и матрицу айтемов, перемножив которые, мы бы максимально приблизили известные нам единички. \n",
    "Такой подход позволит нам заполнить все пропуски в нашей матрице, то есть все нули. \n",
    "\n",
    "Для этого метода будем использовать модель **Alternating Least Squares (ALS)**. Она оптимизирует наши матрицы таким образом, чтобы мы хорошо восстанавливали все единички. \n",
    "Подробнее про модель можно почитать в [документации](https://benfred.github.io/implicit/), или, например, [тут](https://medium.com/radon-dev/als-implicit-collaborative-filtering-5ed653ba39fe), или как всегда – в интернете.\n",
    "\n",
    "![Alt text](./images/mf.png)\n"
   ]
  },
  {
   "cell_type": "markdown",
   "id": "2b03c8a5-53ae-4d69-bb22-7f6fe17715eb",
   "metadata": {},
   "source": [
    "# Baseline #2 – Матричное разложение"
   ]
  },
  {
   "cell_type": "code",
   "execution_count": null,
   "id": "a3e5a3af-287d-441b-84c9-2ab5c5efc7cf",
   "metadata": {},
   "outputs": [],
   "source": [
    "class ALS(BaseRecommender):\n",
    "    # здесь вынесены только основные гиперпараметры модели, все вы можете посмотреть в документации\n",
    "    def __init__(\n",
    "        self, factors: int = 100, regularization: float = 0.01, alpha: float = 1.0, iterations: int = 5, **kwargs\n",
    "    ) -> None:\n",
    "        super().__init__()\n",
    "        self.model = AlternatingLeastSquares(\n",
    "            factors=factors, regularization=regularization, alpha=alpha, iterations=iterations, **kwargs\n",
    "        )\n",
    "        self.trained = False\n",
    "\n",
    "    def fit(\n",
    "        self, df: pd.DataFrame, item_col: str = \"item_id\", user_col: str = \"user_id\", value_col: str = None\n",
    "    ) -> None:\n",
    "        self.user_encoder = LabelEncoder()\n",
    "        self.item_encoder = LabelEncoder()\n",
    "        user_ids = self.user_encoder.fit_transform(df[user_col])\n",
    "        item_ids = self.item_encoder.fit_transform(df[item_col])\n",
    "        if value_col is None:\n",
    "            counts = np.ones(len(df))\n",
    "        else:\n",
    "            counts = df[value_col].values\n",
    "\n",
    "        matrix_shape = len(self.user_encoder.classes_), len(self.item_encoder.classes_)\n",
    "\n",
    "        self.sparse = csr_matrix((counts, (user_ids, item_ids)), shape=matrix_shape)\n",
    "        self.model.fit(self.sparse)\n",
    "\n",
    "        self.trained = True\n",
    "\n",
    "    def predict(self, df: pd.DataFrame, topn: int = 10) -> List[np.ndarray]:\n",
    "        assert self.trained\n",
    "\n",
    "        all_recs = []\n",
    "\n",
    "        users = self.user_encoder.transform(df[\"user_id\"])\n",
    "        for user in tqdm(users, desc=\"predicting\", leave=False):\n",
    "            encoded_rec_items = self.model.recommend(user, user_items=self.sparse[user], N=topn)[0]\n",
    "            all_recs.append(self.item_encoder.inverse_transform(encoded_rec_items))\n",
    "\n",
    "        return all_recs"
   ]
  },
  {
   "cell_type": "code",
   "execution_count": 13,
   "id": "4e10d6a9-87d3-4a34-874d-d2b82ec74592",
   "metadata": {},
   "outputs": [
    {
     "name": "stderr",
     "output_type": "stream",
     "text": [
      "100%|██████████| 1/1 [00:00<00:00,  1.42it/s]\n",
      "                                                                   \r"
     ]
    }
   ],
   "source": [
    "als_rec = ALS(iterations=1, factors=2, random_state=42)\n",
    "als_rec.fit(train_part)\n",
    "test_part[\"als_recs\"] = als_rec.predict(test_part)\n"
   ]
  },
  {
   "cell_type": "markdown",
   "id": "9ec39e30",
   "metadata": {},
   "source": [
    "#### Снова считаем метрики "
   ]
  },
  {
   "cell_type": "code",
   "execution_count": 14,
   "id": "2d34c7bb-f449-46ea-843f-3ad6fc887520",
   "metadata": {},
   "outputs": [
    {
     "data": {
      "text/plain": [
       "{'ndcg': 0.15702657768326359, 'recall': 0.06956445160783432}"
      ]
     },
     "execution_count": 14,
     "metadata": {},
     "output_type": "execute_result"
    }
   ],
   "source": [
    "evaluate_recommender(test_part, model_preds_col=\"als_recs\")\n"
   ]
  },
  {
   "cell_type": "markdown",
   "id": "37b8a747",
   "metadata": {},
   "source": [
    "### Ой-ой, кажется, что качество стало хуже, чем у популярных фильмов. Возможно мы плохо обучили модель, не самым правильным образом обработали данные, или она просто не подходит для этих данных, в любом случае, вам предстоит узнать можно ли обогнать `toppop` на данном датасете."
   ]
  },
  {
   "cell_type": "markdown",
   "id": "4c34f0ff",
   "metadata": {},
   "source": [
    "## Сделаем небольшой EDA наших предсказаний от ALS."
   ]
  },
  {
   "cell_type": "markdown",
   "id": "11b70ede-e103-493c-8e69-bf6304881241",
   "metadata": {},
   "source": [
    "### Посмотрим, что наш алгоритм чаще всего рекомендует первым делом:"
   ]
  },
  {
   "cell_type": "code",
   "execution_count": 15,
   "id": "609502a7-b96f-4233-a209-e7ebedb53876",
   "metadata": {},
   "outputs": [
    {
     "data": {
      "image/png": "[encoded data removed]",
      "text/plain": [
       "<Figure size 640x480 with 1 Axes>"
      ]
     },
     "metadata": {},
     "output_type": "display_data"
    }
   ],
   "source": [
    "first_items = pd.DataFrame([x[0] for x in test_part[\"als_recs\"].values], columns=[\"item_id\"])\n",
    "first_items = (\n",
    "    first_items.merge(items_df[[\"item_id\", \"title\"]], on=\"item_id\").groupby(\"title\").size().sort_values(ascending=False)\n",
    ")\n",
    "first_items /= first_items.sum()\n",
    "first_items.head(10).plot(kind=\"bar\")\n",
    "plt.ylabel(\"Доля от всех рекомендаций\")\n",
    "plt.title(\"Распредление фильмов на первых местах\")\n",
    "plt.show()\n"
   ]
  },
  {
   "cell_type": "markdown",
   "id": "2301aa1d-d521-4aa7-b0b8-e4c05c1b8bfb",
   "metadata": {},
   "source": [
    "#### Посмотрим на похожие фильмы к фильму \"Гнев человеческий\", согласно als"
   ]
  },
  {
   "cell_type": "code",
   "execution_count": 16,
   "id": "a7d3e5ec-53ec-4271-98fd-cff5637e7085",
   "metadata": {},
   "outputs": [
    {
     "data": {
      "text/html": [
       "<div>\n",
       "<style scoped>\n",
       "    .dataframe tbody tr th:only-of-type {\n",
       "        vertical-align: middle;\n",
       "    }\n",
       "\n",
       "    .dataframe tbody tr th {\n",
       "        vertical-align: top;\n",
       "    }\n",
       "\n",
       "    .dataframe thead th {\n",
       "        text-align: right;\n",
       "    }\n",
       "</style>\n",
       "<table border=\"1\" class=\"dataframe\">\n",
       "  <thead>\n",
       "    <tr style=\"text-align: right;\">\n",
       "      <th></th>\n",
       "      <th>item_id</th>\n",
       "      <th>content_type</th>\n",
       "      <th>title</th>\n",
       "      <th>title_orig</th>\n",
       "      <th>release_year</th>\n",
       "      <th>genres</th>\n",
       "      <th>countries</th>\n",
       "      <th>for_kids</th>\n",
       "      <th>age_rating</th>\n",
       "      <th>studios</th>\n",
       "      <th>directors</th>\n",
       "      <th>actors</th>\n",
       "      <th>description</th>\n",
       "      <th>keywords</th>\n",
       "    </tr>\n",
       "  </thead>\n",
       "  <tbody>\n",
       "    <tr>\n",
       "      <th>4809</th>\n",
       "      <td>9728</td>\n",
       "      <td>film</td>\n",
       "      <td>Гнев человеческий</td>\n",
       "      <td>Wrath of Man</td>\n",
       "      <td>2021.0</td>\n",
       "      <td>боевики, триллеры</td>\n",
       "      <td>Великобритания, США</td>\n",
       "      <td>NaN</td>\n",
       "      <td>18.0</td>\n",
       "      <td>NaN</td>\n",
       "      <td>Гай Ричи</td>\n",
       "      <td>Джейсон Стэйтем, Холт МакКэллани, Джеффри Доно...</td>\n",
       "      <td>Грузовики лос-анджелесской инкассаторской комп...</td>\n",
       "      <td>ограбление, криминальный авторитет, месть, пер...</td>\n",
       "    </tr>\n",
       "  </tbody>\n",
       "</table>\n",
       "</div>"
      ],
      "text/plain": [
       "      item_id content_type              title    title_orig  release_year  \\\n",
       "4809     9728         film  Гнев человеческий  Wrath of Man        2021.0   \n",
       "\n",
       "                 genres            countries  for_kids  age_rating studios  \\\n",
       "4809  боевики, триллеры  Великобритания, США       NaN        18.0     NaN   \n",
       "\n",
       "     directors                                             actors  \\\n",
       "4809  Гай Ричи  Джейсон Стэйтем, Холт МакКэллани, Джеффри Доно...   \n",
       "\n",
       "                                            description  \\\n",
       "4809  Грузовики лос-анджелесской инкассаторской комп...   \n",
       "\n",
       "                                               keywords  \n",
       "4809  ограбление, криминальный авторитет, месть, пер...  "
      ]
     },
     "execution_count": 16,
     "metadata": {},
     "output_type": "execute_result"
    }
   ],
   "source": [
    "items_df[items_df[\"title\"] == 'Гнев человеческий']\n"
   ]
  },
  {
   "cell_type": "code",
   "execution_count": 17,
   "id": "2b1e6a5c-bbc2-4871-9a6c-71c2e63facef",
   "metadata": {},
   "outputs": [],
   "source": [
    "def get_similar_films(title, N=10):\n",
    "    item_id = items_df[items_df[\"title\"] == title]['item_id'].values[0]\n",
    "\n",
    "    similar_encoded_ids = als_rec.model.similar_items(\n",
    "        als_rec.item_encoder.transform([item_id]), N=N, filter_items=als_rec.item_encoder.transform([item_id])\n",
    "    )[0][0]\n",
    "    similar_ids = als_rec.item_encoder.inverse_transform(similar_encoded_ids)\n",
    "    return items_df[items_df[\"item_id\"].isin(similar_ids)][\"title\"]\n"
   ]
  },
  {
   "cell_type": "code",
   "execution_count": 18,
   "id": "b6f063d4-89d8-46e1-80c1-59ec2543ecd0",
   "metadata": {},
   "outputs": [
    {
     "data": {
      "text/plain": [
       "1120            Мертвые не умирают\n",
       "3710                 Голос мастера\n",
       "4070                        Тренер\n",
       "4509                  Юность Петра\n",
       "6013             Отстреливая собак\n",
       "6284     Вселенная Стивена Хокинга\n",
       "6589            Алиса в Зазеркалье\n",
       "10036         Убийство на Мидл Бич\n",
       "10293                  Потрепанные\n",
       "10338                     Всё могу\n",
       "Name: title, dtype: object"
      ]
     },
     "execution_count": 18,
     "metadata": {},
     "output_type": "execute_result"
    }
   ],
   "source": [
    "get_similar_films(\"Гнев человеческий\")"
   ]
  },
  {
   "cell_type": "markdown",
   "id": "47ae3b25-413b-4212-b6d9-a170986a8335",
   "metadata": {},
   "source": [
    "#### Получается, что \"Гнев человеческий\" и \"Алиса в Зазеркалье\" довольно близки.... возможно, возможно"
   ]
  },
  {
   "cell_type": "code",
   "execution_count": null,
   "id": "2016fc15-344b-44b5-85e0-2d8c3ad9e5c2",
   "metadata": {},
   "outputs": [],
   "source": []
  },
  {
   "cell_type": "code",
   "execution_count": null,
   "id": "96f26bed-0e33-4bb6-84af-b52986bd7ec2",
   "metadata": {},
   "outputs": [],
   "source": []
  },
  {
   "cell_type": "markdown",
   "id": "e764468f-5813-4c11-b074-f33f53682b24",
   "metadata": {},
   "source": [
    "# Так что же нужно сделать?\n",
    "\n",
    "### tl;dr – красивые визуализации, креативные подходы, различные модели\n",
    "\n",
    "**Мы не ставим перед вами задачу выбить лучший скор на тестовой выборке** (хотя это очень желательно), задание скорее в том, чтобы исследовать различные подходы, поискать инсайты в данных, построить красивый анализ своих предсказаний и поиграться с данными.\n",
    "\n",
    "Если говорить более формально, то мы будем оценивать следующее:\n",
    "1. Какие методы вы попробовали для решения задачи\n",
    "   ##### Это могут быть\n",
    "   * статистически подходы, основанные на вашем анализе данных\n",
    "   * классические метрические методы, вроде knn, а как посчитать вектора пользователей – пусть уже ваша фантазия вам диктует. Здесь вам помогут item-based модели, вроде EASE или SIMPLE\n",
    "   * затюненный или модифицированный ALS (ну или любая другая модель матричной факторизации)\n",
    "   * классические модели вроде градиентных бустингов (catboost, lightGBM) тоже работают в таких задачах (вам ведь ничего не мешает учить классификатор на просмотренный и непросмотренный фильмы, правда? осталось только насэмплить вторых)\n",
    "   * очень приветствуются (но не обязательны) DL подходы, например [DSSM](https://kishorepv.github.io/DSSM/), [NCF](https://towardsdatascience.com/neural-collaborative-filtering-96cef1009401), [Bert4Rec](https://towardsdatascience.com/build-your-own-movie-recommender-system-using-bert4rec-92e4e34938c5) или [любой другой алгоритм](https://habr.com/ru/companies/prequel/articles/573880/), который вы найдете, например графовые или дифузионные подходы, почему нет)\n",
    "     \n",
    "   В общем нет никаких ограничений на модели, используйте то, что вам нравится или кажется логичным. Не стоит бросаться в крайности: обучать целый зоопарк моделей или затюнить одну до 0 ошибки. Найдите баланс между количеством и качеством)\n",
    "2. Как хорошо вы валидировали свои модели\n",
    "3. EDA (Exploration Data Analysis) данных, с которыми вы работаете\n",
    "4. EDA полученных рекомендаций, насколько они разнообразные, насколько смещены в сторону популярных айтемов и всякое такое\n",
    "5. **Обязательно** сохраните свою лучшую модель (файлик обученной модели), чтобы мы могли воспроизвести ваш результат!"
   ]
  },
  {
   "cell_type": "markdown",
   "id": "7a40845f",
   "metadata": {},
   "source": [
    "# Результатом работы должен являться один или два (EDA + обучение моделей) ноутбук(а)."
   ]
  },
  {
   "cell_type": "markdown",
   "id": "e81797e5",
   "metadata": {},
   "source": []
  }
 ],
 "metadata": {
  "kernelspec": {
   "display_name": "Python 3 (ipykernel)",
   "language": "python",
   "name": "python3"
  },
  "language_info": {
   "codemirror_mode": {
    "name": "ipython",
    "version": 3
   },
   "file_extension": ".py",
   "mimetype": "text/x-python",
   "name": "python",
   "nbconvert_exporter": "python",
   "pygments_lexer": "ipython3",
   "version": "3.10.12"
  }
 },
 "nbformat": 4,
 "nbformat_minor": 5
}
